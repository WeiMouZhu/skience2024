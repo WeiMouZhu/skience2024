{
 "cells": [
  {
   "cell_type": "markdown",
   "id": "0f51f37c",
   "metadata": {},
   "source": [
    "# Amplitude Source Location (ASL)\n",
    "\n",
    "## 1. Introduction\n",
    "\n",
    "### 1.1 Review\n",
    "\n",
    "In the previous tutorial, we estimated Reduced Displacement by assuming a source location, e.g. the summit of a volcano. But it would be better if we locate volcano-seismic signals, and then compute Reduced Displacement. Most volcano-seismic signals cannot be located using traditional differential travel-time techniques, because they lack identifiable phases (sources are quasi-continuous, so phases are arriving all the time). So what else can we do?\n",
    "\n",
    "### 1.2 Motivation\n",
    "In summer 1996, I was fortunate enough as a graduate student to be asked to assist the British Geological Survey in its monitoring of the Soufriere Hills Volcano, Montserrat. As part of \"Team Seismic\" at the Montserrat Volcano Observatory, our job was to provide 24-7 monitoring of the lava dome eruption, which had been continuous since October 1995. Crucially, this involved two-way radio communications with others working on the slopes of the volcano, and warning them of seismicity, especially pyroclastic flows [Add video here from Lauren's Journeys program]. \n",
    "\n",
    "I had the idea that we could use the RSAM data to locate seismicity continuously, on a map on a monitor in the Ops Room. I created a proof-of-concept, using the 60-s RSAM data (the 2.56-s RSAM data wasn't captured), and applying calibration constants. We'll replicate that here, but use DSAM data, which has already been instrument-corrected. For simplicity - and speed which was important for a real-time system - we ignore the vertical dimension (topography and station elevations ignored), and assume an isotropic, homogeneous half-space.\n",
    "\n",
    "First, we will run a simulation, to demonstrate that our location technique works. Then we will compute locations for real DSAM data, and then for a known pyroclastic flow signal.\n",
    "\n",
    "### 1.3 Setup\n",
    "\n",
    "We need to import the following, to set things up."
   ]
  },
  {
   "cell_type": "code",
   "execution_count": null,
   "id": "f56f3de2",
   "metadata": {},
   "outputs": [],
   "source": [
    "import os\n",
    "import sys\n",
    "from pathlib import Path\n",
    "import numpy as np\n",
    "import obspy\n",
    "localLibPath = Path.cwd().resolve().parents[0].joinpath('lib')\n",
    "sys.path.append(str(localLibPath))\n",
    "from SAM import DSAM\n",
    "from ASL import montserrat_topo_map, Grid, ASL, simulate_DSAM\n",
    "SDS_DIR = Path.cwd().parents[1].joinpath('data','continuous','SDS')\n",
    "SAM_DIR = Path.cwd().parents[1].joinpath('data','continuous','SAM')\n",
    "RESPONSE_DIR = Path.cwd().parents[1].joinpath('data','responses')"
   ]
  },
  {
   "cell_type": "markdown",
   "id": "ceb9490b-b35a-4239-893a-634a87b73584",
   "metadata": {},
   "source": [
    "## 2. Synthetic testing"
   ]
  },
  {
   "cell_type": "markdown",
   "id": "e7f8d6b6",
   "metadata": {},
   "source": [
    "### 2.1 Map of Montserrat stations\n",
    "We generate a map of seismic stations with a vertical-component sensor, operational (though not necessarily working properly) on July 12, 2003. This 13-station network provides good azimuthal coverage."
   ]
  },
  {
   "cell_type": "code",
   "execution_count": null,
   "id": "3d040a45",
   "metadata": {},
   "outputs": [],
   "source": [
    "invMVO = obspy.read_inventory(os.path.join(RESPONSE_DIR,'MV.xml'), format='stationxml')\n",
    "startt = obspy.UTCDateTime(2003,7,12,23,0,0)\n",
    "endt = obspy.UTCDateTime(2003,7,13,4,0,0)\n",
    "invMVO = invMVO.select(starttime=startt, endtime=endt)\n",
    "invMVO = invMVO.select(channel='*Z')\n",
    "#import pygmt\n",
    "#pygmt.config(GMT_DATA_SERVER=\"https://oceania.generic-mapping-tools.org\")\n",
    "montserrat_topo_map(inv=invMVO, show=True, add_labels=True, resolution='03s');"
   ]
  },
  {
   "cell_type": "markdown",
   "id": "98232831",
   "metadata": {},
   "source": [
    "### 2.2 Define a grid of source locations and reduced displacement at those nodes"
   ]
  },
  {
   "cell_type": "code",
   "execution_count": null,
   "id": "ab1cd754-4eeb-423d-a886-8431621c33fc",
   "metadata": {},
   "outputs": [],
   "source": [
    "sampling_interval = 60\n",
    "synthetic_source = {}\n",
    "N = 10\n",
    "synthetic_source['lat'] = 16.69 + np.tile(np.arange(N)/200, N)\n",
    "synthetic_source['lon'] = -62.20 + np.repeat(np.arange(N)/200, N)\n",
    "synthetic_source['DR'] = np.ones(N*N) * 100.0 # 100 cm^2 everywhere\n",
    "synthetic_source['t'] = [obspy.UTCDateTime(0) + t * sampling_interval for t in range(N*N)]\n",
    "#print(synthetic_source)\n",
    "\n",
    "surfaceWaveSpeed_kms = 1.5\n",
    "peakf=8.0\n",
    "Q=23\n",
    "synthDSAMobj = simulate_DSAM(invMVO, synthetic_source, surfaceWaves=True, wavespeed_kms=surfaceWaveSpeed_kms, \\\n",
    "                             peakf=peakf, Q=Q, noise_level_percent=0.0)\n",
    "synthDSAMobj.plot(metrics='mean')"
   ]
  },
  {
   "cell_type": "markdown",
   "id": "8318f74b",
   "metadata": {},
   "source": [
    "### 2.3 Create grid with 100-m node spacing, 8 x 10 km "
   ]
  },
  {
   "cell_type": "code",
   "execution_count": null,
   "id": "eff75415",
   "metadata": {},
   "outputs": [],
   "source": [
    "node_spacing_m = 100\n",
    "grid_size_lat_m = 10000\n",
    "grid_size_lon_m = 8000\n",
    "nlat = int(grid_size_lat_m/node_spacing_m) + 1\n",
    "nlon = int(grid_size_lon_m/node_spacing_m) + 1\n",
    "gridobj = Grid(np.mean(synthetic_source['lat']), np.mean(synthetic_source['lon']), nlat, nlon, node_spacing_m)  \n",
    "gridobj.plot(node_spacing_m = node_spacing_m)"
   ]
  },
  {
   "cell_type": "markdown",
   "id": "8df3f927",
   "metadata": {},
   "source": [
    "### 2.4 Plot synthetic source locations, and DR time series (all equal=100 ${cm}^2$)"
   ]
  },
  {
   "cell_type": "code",
   "execution_count": null,
   "id": "9f397ad8",
   "metadata": {},
   "outputs": [],
   "source": [
    "aslobj = ASL(synthDSAMobj, 'mean', invMVO, gridobj)\n",
    "\n",
    "aslobj.plot(synthetic_source, zoom_level=1, threshold_DR=1.0, scale=0.1)"
   ]
  },
  {
   "cell_type": "markdown",
   "id": "5771d671",
   "metadata": {},
   "source": [
    "### 2.5 Run location algorithm on synthetic source and plot resulting locations and DR time series"
   ]
  },
  {
   "cell_type": "code",
   "execution_count": null,
   "id": "becd5e4d",
   "metadata": {},
   "outputs": [],
   "source": [
    "import time\n",
    "aslobj.compute_grid_distances()\n",
    "\n",
    "aslobj.compute_amplitude_corrections(surfaceWaves=True, wavespeed_kms=surfaceWaveSpeed_kms, Q=Q, fix_peakf=peakf)\n",
    "\n",
    "time1 = time.time()\n",
    "source = aslobj.locate()\n",
    "time2 = time.time()\n",
    "print(f'Location algorithm took {time2-time1} s')\n",
    "aslobj.plot(source, zoom_level=1, scale=0.1, threshold_DR=0.0)"
   ]
  },
  {
   "cell_type": "code",
   "execution_count": null,
   "id": "6ff38ccd",
   "metadata": {},
   "outputs": [],
   "source": [
    "time1 = time.time()\n",
    "fast_source = aslobj.fast_locate()\n",
    "time2 = time.time()\n",
    "print(f'Vectorized location algorithm took {time2-time1} s')\n",
    "aslobj.plot(fast_source, zoom_level=1, scale=0.1, threshold_DR=0.0)"
   ]
  },
  {
   "cell_type": "markdown",
   "id": "9259c97d",
   "metadata": {},
   "source": [
    "## 3 Locating real DSAM data: July 12, 2003 collapse\n",
    "\n",
    "Now we are confident in our ability to locate synthetic data correctly, and determine reduced displacement correctly, we will try to locate some real data. In this example, we use the 'VT' metric from the DSAM dataset. Recall that this is the mean amplitude of the signal (over 60-s time windows) after filtering between 4 and 18 Hz, rather than the 'mean' metric (or 'median', or 'rms' etc.) which are computed on signals filtered between 0.5 and 18 Hz. We do this because Jolly et al. (2002) determined that a 7-9 Hz bandpass was best for locating pyroclastic flows, and so the VT band is the one we have available that best matches this.\n",
    "\n",
    "### 3.1 Read inventory and DSAM data. Plot DSAM data"
   ]
  },
  {
   "cell_type": "code",
   "execution_count": null,
   "id": "f2d9ef75",
   "metadata": {},
   "outputs": [],
   "source": [
    "invMVO = obspy.read_inventory(os.path.join(RESPONSE_DIR,'MV.xml'), format='stationxml')\n",
    "startt = obspy.UTCDateTime(2003,7,12,23,0,0)\n",
    "endt = obspy.UTCDateTime(2003,7,13,4,0,0)\n",
    "dsamObj = DSAM.read(startt, endt, SAM_DIR=SAM_DIR, sampling_interval=60, ext='pickle', \\\n",
    "                     trace_ids=['MV.MBGH..BHZ', 'MV.MBLG..SHZ', 'MV.MBRY..BHZ', 'MV.MBSS..SHZ', 'MV.MBWH..SHZ'])  \n",
    "\n",
    "dsamObj.plot(metrics='VT')"
   ]
  },
  {
   "cell_type": "markdown",
   "id": "1331d90c",
   "metadata": {},
   "source": [
    "### 3.2 Create dense grid (20-m node spacing) and plot"
   ]
  },
  {
   "cell_type": "code",
   "execution_count": null,
   "id": "54c61303",
   "metadata": {},
   "outputs": [],
   "source": [
    "source = {'lat':16.71111, 'lon':-62.17722}\n",
    "node_spacing_m = 20\n",
    "grid_size_lat_m = 10000\n",
    "grid_size_lon_m = 8000\n",
    "nlat = int(grid_size_lat_m/node_spacing_m) + 1\n",
    "nlon = int(grid_size_lon_m/node_spacing_m) + 1\n",
    "gridobj = Grid(source['lat'], source['lon'], nlat, nlon, node_spacing_m)  \n",
    "gridobj.plot(node_spacing_m = node_spacing_m)"
   ]
  },
  {
   "cell_type": "markdown",
   "id": "0dfb37b4",
   "metadata": {},
   "source": [
    "### 3.3 Create ASL object, compute combined geometrical spreading and inelatic attenuation corrections for each node"
   ]
  },
  {
   "cell_type": "code",
   "execution_count": null,
   "id": "442dc7ec",
   "metadata": {},
   "outputs": [],
   "source": [
    "Q = 23\n",
    "surfaceWaveSpeed_kms = 1.5 # km/s\n",
    "peakf = 8.0\n",
    "\n",
    "aslobj = ASL(dsamObj, 'rms', invMVO, gridobj)\n",
    "\n",
    "aslobj.compute_grid_distances()\n",
    "\n",
    "aslobj.compute_amplitude_corrections(surfaceWaves=True, wavespeed_kms=surfaceWaveSpeed_kms, Q=Q, fix_peakf = peakf)"
   ]
  },
  {
   "cell_type": "markdown",
   "id": "0f31d0d2",
   "metadata": {},
   "source": [
    "### 3.4 Run the amplitude location"
   ]
  },
  {
   "cell_type": "code",
   "execution_count": null,
   "id": "c10b737b",
   "metadata": {},
   "outputs": [],
   "source": [
    "source = aslobj.fast_locate()"
   ]
  },
  {
   "cell_type": "markdown",
   "id": "e079965e",
   "metadata": {},
   "source": [
    "### 3.5 Plot sources and source reduced displacements"
   ]
  },
  {
   "cell_type": "code",
   "execution_count": null,
   "id": "0b3b24f1",
   "metadata": {},
   "outputs": [],
   "source": [
    "aslobj.plot(source, zoom_level=2, threshold_DR=100.0, scale=0.1)\n",
    "aslobj.plot(source, zoom_level=0, threshold_DR=100.0, scale=0.1)"
   ]
  },
  {
   "cell_type": "markdown",
   "id": "160da14c",
   "metadata": {},
   "source": [
    "## 4. Locate a pyroclastic flow"
   ]
  },
  {
   "cell_type": "code",
   "execution_count": null,
   "id": "132bc345-fbce-4ad8-b837-2e0b9dfc5af7",
   "metadata": {},
   "outputs": [],
   "source": []
  },
  {
   "cell_type": "code",
   "execution_count": null,
   "id": "06cc065e-b8dd-48ee-a94f-dcbedbab9c20",
   "metadata": {},
   "outputs": [],
   "source": [
    "import os\n",
    "import sys\n",
    "import numpy as np\n",
    "import time\n",
    "import obspy\n",
    "from obspy import read_inventory\n",
    "sys.path.append('../lib')\n",
    "from SAM import DSAM\n",
    "from ASL import montserrat_topo_map, Grid, ASL, simulate_DSAM\n",
    "from obspy.clients.filesystem.sds import Client\n",
    "\n",
    "sdsclient = Client(SDS_DIR)\n",
    "st = sdsclient.get_waveforms(\"MV\", \"*\", \"\", \"*Z\", obspy.UTCDateTime(2003, 7, 11, 4, 6, 0), obspy.UTCDateTime(2003, 7, 11, 4, 9, 0))\n",
    "st.plot(equal_scale=False);\n",
    "\n",
    "# same parameters as before\n",
    "Q = 23\n",
    "surfaceWaveSpeed_kms = 1.5 # km/s\n",
    "peakf = 8.0\n",
    "\n",
    "# same grid as before\n",
    "source = {'lat':16.71111, 'lon':-62.17722}\n",
    "#node_spacing_m = 20\n",
    "node_spacing_m = 100\n",
    "grid_size_lat_m = 10000\n",
    "grid_size_lon_m = 8000\n",
    "nlat = int(grid_size_lat_m/node_spacing_m) + 1\n",
    "nlon = int(grid_size_lon_m/node_spacing_m) + 1\n",
    "gridobj = Grid(source['lat'], source['lon'], nlat, nlon, node_spacing_m)  \n",
    "\n",
    "# Load inventory\n",
    "invMVO = obspy.read_inventory(os.path.join(RESPONSE_DIR,'MV.xml'), format='stationxml')\n",
    "\n",
    "# remove instrument response - and set units accordingly IMPORTANT!\n",
    "pre_filt = [0.4, 0.5, 18, 20]\n",
    "#pre_filt = [6.0, 7.0, 9.0, 10.0]\n",
    "for tr in st:\n",
    "    print(tr)\n",
    "    try:\n",
    "        tr.remove_response(inventory=invMVO, pre_filt=pre_filt, output=\"DISP\", plot=True) \n",
    "    except:\n",
    "        st.remove(tr)\n",
    "    else:\n",
    "        tr.stats['units'] = 'm'\n",
    "#st.plot(equal_scale=True);\n",
    "\n",
    "# compute DSAM data with 10-s time window\n",
    "dsamObj = DSAM(stream=st, sampling_interval=10)\n",
    "print(dsamObj)\n",
    "dsamObj.plot(metrics='rms', equal_scale=True)"
   ]
  },
  {
   "cell_type": "code",
   "execution_count": null,
   "id": "a7dfa9a6-afa8-47d1-9c22-f189b3239951",
   "metadata": {},
   "outputs": [],
   "source": [
    "source1 = {'lat':16.71111, 'lon':-62.17722}\n",
    "DRSobj = dsamObj.compute_reduced_displacement(invMVO, source1, surfaceWaves=True, Q=None, wavespeed_kms=1.5)\n",
    "\n",
    "DRSmaxrms = DRSobj.max(metric='VT')\n",
    "print(f'Maximum DRS assuming fixed source is: {DRSmaxrms}')\n",
    "DRSobj.plot(equal_scale=True)"
   ]
  },
  {
   "cell_type": "code",
   "execution_count": null,
   "id": "6fbb3c9c-bea0-494e-8acf-a90ac5799acf",
   "metadata": {},
   "outputs": [],
   "source": [
    "aslobj = ASL(dsamObj, 'VT', invMVO, gridobj)\n",
    "\n",
    "aslobj.compute_grid_distances()\n",
    "\n",
    "aslobj.compute_amplitude_corrections(surfaceWaves=True, wavespeed_kms=surfaceWaveSpeed_kms, Q=None, fix_peakf = peakf)\n",
    "\n",
    "source_pf = aslobj.fast_locate()\n",
    "\n",
    "aslobj.plot(source_pf, zoom_level=1, threshold_DR=0.03, scale=0.2, join=True, number=10, equal_size=True, add_labels=False)"
   ]
  },
  {
   "cell_type": "code",
   "execution_count": null,
   "id": "a66710f1",
   "metadata": {},
   "outputs": [],
   "source": [
    "aslobj.plot(source_pf, zoom_level=3, threshold_DR=0.03, scale=0.5, join=True, number=30, add_labels=False)"
   ]
  },
  {
   "cell_type": "markdown",
   "id": "5e074175",
   "metadata": {},
   "source": [
    "## 5. Summary\n",
    "\n",
    "I call the approach above \"naive\" ASL, because for simplicity (and speed, for real-time application) it ignores the vertical dimension, and assumes a homogeneous, isotropic half space (1-layer). It also considers the seismic source to be a point source, and assumes only one event is occurring at a time. In reality, pyroclastic flows cause multiple seismic sources per unit time, over an extended area, and this evolves with time as the flow moves downhill. Moreover, there can be numerous pyroclastic flows travelling down different flanks of the volcano at the same time, such as in a major dome collapse which may be comprised of dozens of pyroclastic flows that reach the coast. The average location determined by ASL is likely the top of the dome. "
   ]
  },
  {
   "cell_type": "code",
   "execution_count": null,
   "id": "a294b1d6-fd17-4655-a7e7-3d328715e3b7",
   "metadata": {},
   "outputs": [],
   "source": [
    "'''\n",
    "# Define a source location for Redoubt volcano. Station distances to this lat/lon are used to \"reduce\" the displacement to 1 km distance.\n",
    "source = {'lat':60.4845, 'lon':-152.7392}\n",
    "print(source)\n",
    "\n",
    "# Generate a Reduced Displacement object, assuming body waves (surfaceWaves=False) and no inelastic attenuation (Q=None)\n",
    "DRobj = dsamObj.compute_reduced_displacement(inv, source, surfaceWaves=False, Q=None)\n",
    "DRobj.plot()\n",
    "\n",
    "# Generate a Reduced Displacement object, assuming surface waves (surfaceWaves=True) and no inelastic attenuation (Q=None)\n",
    "DRSobj = dsamObj.compute_reduced_displacement(inv, source, surfaceWaves=True, Q=None)\n",
    "DRSobj.plot()\n",
    "'''"
   ]
  }
 ],
 "metadata": {
  "kernelspec": {
   "display_name": "Python 3 (ipykernel)",
   "language": "python",
   "name": "python3"
  },
  "language_info": {
   "codemirror_mode": {
    "name": "ipython",
    "version": 3
   },
   "file_extension": ".py",
   "mimetype": "text/x-python",
   "name": "python",
   "nbconvert_exporter": "python",
   "pygments_lexer": "ipython3",
   "version": "3.11.8"
  }
 },
 "nbformat": 4,
 "nbformat_minor": 5
}
