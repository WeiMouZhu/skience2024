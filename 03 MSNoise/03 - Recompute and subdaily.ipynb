{
 "cells": [
  {
   "cell_type": "code",
   "execution_count": null,
   "id": "4fb9730b",
   "metadata": {
    "ExecuteTime": {
     "end_time": "2023-02-27T13:51:32.528549Z",
     "start_time": "2023-02-27T13:51:32.504613Z"
    }
   },
   "outputs": [],
   "source": [
    "from IPython.core.display import display, HTML\n",
    "display(HTML(\"<style>.container { width:80% !important; }</style>\")) \n",
    "from IPython.core.interactiveshell import InteractiveShell\n",
    "InteractiveShell.ast_node_interactivity = \"last_expr\"\n",
    "import warnings\n",
    "warnings.filterwarnings('ignore')\n",
    "\n",
    "%matplotlib inline\n",
    "import datetime\n",
    "import matplotlib.pyplot as plt\n",
    "import glob\n",
    "import os\n",
    "from obspy import read, UTCDateTime, read_inventory\n",
    "from obspy.signal import PPSD\n",
    "import warnings\n",
    "import pandas as pd\n",
    "import numpy as np\n",
    "import matplotlib.gridspec as gridspec\n",
    "from matplotlib.dates import DateFormatter\n",
    "from pandas.plotting import register_matplotlib_converters\n",
    "register_matplotlib_converters()\n",
    "plt.style.use(\"ggplot\")\n",
    "\n",
    "from msnoise.api import *\n",
    "from wxs_dvv import *\n",
    "\n",
    "plt.rcParams['figure.figsize'] = (16,8)"
   ]
  },
  {
   "cell_type": "code",
   "execution_count": null,
   "id": "458207f2-5a39-4c50-b299-daee31de0c17",
   "metadata": {},
   "outputs": [],
   "source": [
    "# connect to the database\n",
    "db = connect()\n",
    "params = get_params(db)"
   ]
  },
  {
   "cell_type": "code",
   "execution_count": null,
   "id": "50c4dcb7-6b97-46fd-a64f-778d6e7c1595",
   "metadata": {},
   "outputs": [],
   "source": [
    "for filter in get_filters(db):\n",
    "    filter.used = False\n",
    "db.commit()\n",
    "update_filter(db, ref=5, low=0.5, mwcs_low=0.5, high=8, mwcs_high=8, mwcs_wlen=4, mwcs_step=1, used=1)\n"
   ]
  },
  {
   "cell_type": "code",
   "execution_count": null,
   "id": "641729e6-eab7-48f3-ba8d-86a216aca831",
   "metadata": {},
   "outputs": [],
   "source": [
    "! msnoise info"
   ]
  },
  {
   "cell_type": "code",
   "execution_count": null,
   "id": "cd4546fb-3bc5-4a7a-8965-160e5bedd017",
   "metadata": {},
   "outputs": [],
   "source": [
    "! msnoise config set mov_stack=(('1d','1d'),('2d','1d'),('12h','3h'))\n",
    "! msnoise config set components_to_compute_single_station=EN,EZ,NZ\n",
    "! msnoise config set components_to_compute=\"\"\n",
    "! msnoise reset DA\n",
    "! msnoise new_jobs\n",
    "! msnoise db execute \"update jobs set flag='D' where jobtype='CC'\"\n",
    "! msnoise db execute \"update jobs set flag='T' where jobtype='CC' and day between '2014-06-01' and '2014-07-01'\""
   ]
  },
  {
   "cell_type": "code",
   "execution_count": null,
   "id": "d5c6e82e-fba9-46b6-8a41-0f6d8ffbb8cd",
   "metadata": {},
   "outputs": [],
   "source": [
    "! msnoise info -j"
   ]
  },
  {
   "cell_type": "code",
   "execution_count": null,
   "id": "6a041f2a-2e25-426d-be99-6e97adfa66ff",
   "metadata": {},
   "outputs": [],
   "source": [
    "! msnoise -q -t 6 cc compute_cc"
   ]
  },
  {
   "cell_type": "code",
   "execution_count": null,
   "id": "6a442922-f30f-4a80-9bcd-d0141be8549b",
   "metadata": {},
   "outputs": [],
   "source": [
    "# Obtain a list of dates between ``start_date`` and ``enddate``\n",
    "start, end, datelist = build_movstack_datelist(db)\n",
    "\n",
    "# Get the list of parameters from the DB:\n",
    "params = get_params(db)\n",
    "\n",
    "\n",
    "# Get the time axis for plotting the CCF:\n",
    "taxis = get_t_axis(db)\n",
    "\n",
    "filter_id = 5\n",
    "comp = \"EN\"\n",
    "# Get the results for two station, filter id=1, ZZ component, mov_stack=(\"1d\",\"1d\") and the results as a 2D array:\n",
    "ccfs = get_results_all(db, \"PF.CSS.00\", \"PF.CSS.00\", filter_id, \"EN\", datelist, format=\"xarray\")\n"
   ]
  },
  {
   "cell_type": "code",
   "execution_count": null,
   "id": "67d2c54a-0839-4750-87cd-7ad5554c64a1",
   "metadata": {},
   "outputs": [],
   "source": [
    "ccfs.CCF.plot(figsize=(12,6))"
   ]
  },
  {
   "cell_type": "code",
   "execution_count": null,
   "id": "193fe68c-eddf-4df6-a196-d7fc1dfc3fea",
   "metadata": {},
   "outputs": [],
   "source": [
    "zoom = 20 # seconds in the coda"
   ]
  },
  {
   "cell_type": "code",
   "execution_count": null,
   "id": "e3d456ac-898d-4c8e-9c74-3c2054cf8154",
   "metadata": {},
   "outputs": [],
   "source": [
    "ccfs.CCF.loc[:,-zoom:zoom].plot(figsize=(12,6), vmin=-1e-6)"
   ]
  },
  {
   "cell_type": "code",
   "execution_count": null,
   "id": "a9f20bc3-72e0-44ad-94c8-c7b3985aa0e9",
   "metadata": {},
   "outputs": [],
   "source": [
    "ccfs.CCF.loc[:,-zoom:zoom].rolling(times=24).mean().resample(times='3h').mean().plot(figsize=(12,6), vmin=-5e-7)"
   ]
  },
  {
   "cell_type": "code",
   "execution_count": null,
   "id": "db8a6013-62e1-4a5d-926a-a047bc440eb3",
   "metadata": {},
   "outputs": [],
   "source": [
    "! msnoise -q -t 6 cc stack -r"
   ]
  },
  {
   "cell_type": "code",
   "execution_count": null,
   "id": "5af98c74-eec2-40ec-b547-c7661607d951",
   "metadata": {},
   "outputs": [],
   "source": [
    "! msnoise reset STACK\n",
    "! msnoise -q -t 6 cc stack -m"
   ]
  },
  {
   "cell_type": "code",
   "execution_count": null,
   "id": "90284068-b179-4cfa-8d2a-314cc133cef5",
   "metadata": {},
   "outputs": [],
   "source": [
    "# ! msnoise db execute \"update jobs set flag='T' where jobtype='MWCS' and day between '2014-06-01' and '2014-07-01'\"\n",
    "! msnoise -q -t 5 cc dvv compute_mwcs"
   ]
  },
  {
   "cell_type": "code",
   "execution_count": null,
   "id": "6efcc211-ef2d-4d4b-a841-00074533b5dc",
   "metadata": {},
   "outputs": [],
   "source": [
    "! msnoise -q -t 5 cc dvv compute_dtt"
   ]
  },
  {
   "cell_type": "code",
   "execution_count": null,
   "id": "01ae107c-f353-4d1d-bc88-af4d66d81c38",
   "metadata": {},
   "outputs": [],
   "source": [
    "! msnoise -q cc dvv compute_dvv"
   ]
  },
  {
   "cell_type": "code",
   "execution_count": null,
   "id": "60f66e15-93b2-4798-ac5b-bc7cc2db017d",
   "metadata": {},
   "outputs": [],
   "source": [
    "from msnoise.plots.dvv import main as plot_dvv\n",
    "for comp in [\"EN\", \"EZ\", \"NZ\"]:\n",
    "    plot_dvv(filterid=5, components=comp, show=False)\n",
    "    for ax in plt.gcf().axes:\n",
    "        plt.sca(ax)\n",
    "        plt.axvline(datetime.datetime(2014,6,21,),c='r', ls='--')\n",
    "    plt.show()"
   ]
  },
  {
   "cell_type": "code",
   "execution_count": null,
   "id": "e7534a16-1943-43bd-80a3-f95cbd0d0447",
   "metadata": {},
   "outputs": [],
   "source": [
    "# plot_dvv(filterid=5, components=\"EZ,NZ,EN\", show=False)\n",
    "# for ax in plt.gcf().axes:\n",
    "#     plt.sca(ax)\n",
    "#     plt.axvline(datetime.datetime(2014,6,21,),c='r', ls='--')\n",
    "# plt.show()"
   ]
  },
  {
   "cell_type": "code",
   "execution_count": null,
   "id": "fc91273b-1677-4401-808a-338ffd8dd859",
   "metadata": {},
   "outputs": [],
   "source": [
    "fig, axes = plt.subplots(3,1, figsize=(10,10))\n",
    "filterid = 5\n",
    "mov_stack = params.mov_stack[-1]\n",
    "plt.suptitle(mov_stack)\n",
    "filter = get_filters(db, ref=filterid)\n",
    "for i, comp in enumerate([\"EN\", \"EZ\", \"NZ\"]):\n",
    "    for sta1, sta2 in get_station_pairs(db):\n",
    "        plt.sca(axes[i])\n",
    "        for loc1 in sta1.locs():\n",
    "            s1 = \"%s.%s.%s\" % (sta1.net, sta1.sta, loc1)\n",
    "            for loc2 in sta2.locs():\n",
    "                s2 = \"%s.%s.%s\" % (sta2.net, sta2.sta, loc2)\n",
    "                if s1 != s2:\n",
    "                    continue\n",
    "                dvv = compute_dvv(db, filterid, mov_stack, components=comp, params=params, pairs=[(s1,s2),])\n",
    "                dvv.m0 *= -100\n",
    "                # dvv = dvv.rolling(\"24h\", closed=\"right\", center=False).mean()\n",
    "                dvv.m0.plot(label=\"%s:%s\"%(s1,s2), ax=axes[i])\n",
    "                plt.title(\"Filter %i (%.2f - %.2f Hz) - %s\" % (filterid, filter.low, filter.high, comp))\n",
    "        plt.axvline(datetime.date(2014,6,21), c='r', ls='--')\n",
    "        plt.legend()\n",
    "        plt.xlabel(\"\")\n",
    "        plt.ylabel(\"dv/v (%)\")\n",
    "plt.tight_layout()"
   ]
  },
  {
   "cell_type": "code",
   "execution_count": null,
   "id": "6752358e",
   "metadata": {
    "ExecuteTime": {
     "end_time": "2023-02-27T13:52:17.888135Z",
     "start_time": "2023-02-27T13:52:16.348739Z"
    },
    "pycharm": {
     "name": "#%%\n"
    }
   },
   "outputs": [],
   "source": []
  }
 ],
 "metadata": {
  "kernelspec": {
   "display_name": "Python 3 (ipykernel)",
   "language": "python",
   "name": "python3"
  },
  "language_info": {
   "codemirror_mode": {
    "name": "ipython",
    "version": 3
   },
   "file_extension": ".py",
   "mimetype": "text/x-python",
   "name": "python",
   "nbconvert_exporter": "python",
   "pygments_lexer": "ipython3",
   "version": "3.11.5"
  }
 },
 "nbformat": 4,
 "nbformat_minor": 5
}
